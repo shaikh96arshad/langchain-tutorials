{
 "cells": [
  {
   "cell_type": "code",
   "execution_count": 2,
   "id": "38f570e3",
   "metadata": {},
   "outputs": [],
   "source": [
    "# !pip install -r requirements.txt"
   ]
  },
  {
   "cell_type": "code",
   "execution_count": 4,
   "id": "5843819c",
   "metadata": {},
   "outputs": [],
   "source": [
    "import openai\n",
    "import os"
   ]
  },
  {
   "cell_type": "code",
   "execution_count": 14,
   "id": "1d599e3b",
   "metadata": {},
   "outputs": [],
   "source": [
    "os.environ[\"open_ai_key\"]=\"your_oai_key_here\""
   ]
  },
  {
   "cell_type": "code",
   "execution_count": 31,
   "id": "5becdfd1",
   "metadata": {},
   "outputs": [
    {
     "data": {
      "text/plain": [
       "'s'"
      ]
     },
     "execution_count": 31,
     "metadata": {},
     "output_type": "execute_result"
    }
   ],
   "source": [
    "# Set open AI environment key using os module\n",
    "os.getenv(\"open_ai_key\")[0]"
   ]
  },
  {
   "cell_type": "code",
   "execution_count": 16,
   "id": "2eda44de",
   "metadata": {},
   "outputs": [],
   "source": [
    "openai.api_key = os.getenv(\"open_ai_key\")"
   ]
  },
  {
   "cell_type": "code",
   "execution_count": 18,
   "id": "4cf20171",
   "metadata": {},
   "outputs": [],
   "source": [
    "respone = openai.Completion.create(\n",
    "            model = 'text-davinci-003',\n",
    "            prompt = 'what is chatgpt',\n",
    "            max_tokens = 100\n",
    ")"
   ]
  },
  {
   "cell_type": "code",
   "execution_count": 30,
   "id": "3437e949",
   "metadata": {},
   "outputs": [
    {
     "data": {
      "text/plain": [
       "dict_values(['This model version is deprecated. Migrate before January 4, 2024 to avoid disruption of service. Learn more https://platform.openai.com/docs/deprecations', 'cmpl-85ENmuwRHwqYtOEMCkqqmLN3UuUZg', 'text_completion', 1696257618, 'text-davinci-003', [<OpenAIObject at 0x1fd1199d7b0> JSON: {\n",
       "  \"text\": \"\\n\\nChatGPT is a GPT-2 based chatbot models designed for natural and engaging conversations. The model is trained on 2.5 billion conversation samples from a variety of sources, including Reddit, Twitter, and multiple public conversation datasets. ChatGPT is able to generate relevant responses according to the context of the conversation and learn over time, making it great for applications such as customer service and virtual agents.\",\n",
       "  \"index\": 0,\n",
       "  \"logprobs\": null,\n",
       "  \"finish_reason\": \"stop\"\n",
       "}], <OpenAIObject at 0x1fd1199d5d0> JSON: {\n",
       "  \"prompt_tokens\": 5,\n",
       "  \"completion_tokens\": 84,\n",
       "  \"total_tokens\": 89\n",
       "}])"
      ]
     },
     "execution_count": 30,
     "metadata": {},
     "output_type": "execute_result"
    }
   ],
   "source": [
    "respone.values()"
   ]
  },
  {
   "cell_type": "code",
   "execution_count": null,
   "id": "cdfec261",
   "metadata": {},
   "outputs": [],
   "source": []
  }
 ],
 "metadata": {
  "kernelspec": {
   "display_name": "Python 3 (ipykernel)",
   "language": "python",
   "name": "python3"
  },
  "language_info": {
   "codemirror_mode": {
    "name": "ipython",
    "version": 3
   },
   "file_extension": ".py",
   "mimetype": "text/x-python",
   "name": "python",
   "nbconvert_exporter": "python",
   "pygments_lexer": "ipython3",
   "version": "3.10.3"
  }
 },
 "nbformat": 4,
 "nbformat_minor": 5
}
