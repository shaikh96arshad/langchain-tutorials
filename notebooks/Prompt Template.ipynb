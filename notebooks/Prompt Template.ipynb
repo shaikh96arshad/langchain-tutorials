{
 "cells": [
  {
   "cell_type": "code",
   "execution_count": 1,
   "id": "ad1d5e9d",
   "metadata": {},
   "outputs": [],
   "source": [
    "import os\n",
    "from langchain.llms import OpenAI\n",
    "from langchain.chat_models import ChatOpenAI"
   ]
  },
  {
   "cell_type": "code",
   "execution_count": 8,
   "id": "ea7374cb",
   "metadata": {},
   "outputs": [],
   "source": [
    "api_key = os.getenv('OPENAI_API_KEY')\n"
   ]
  },
  {
   "cell_type": "code",
   "execution_count": 39,
   "id": "46fe421c",
   "metadata": {},
   "outputs": [],
   "source": [
    "llm = OpenAI(openai_api_key=api_key)\n",
    "chat = ChatOpenAI(openai_api_key=api_key)"
   ]
  },
  {
   "cell_type": "code",
   "execution_count": 12,
   "id": "018c0d89",
   "metadata": {},
   "outputs": [
    {
     "name": "stdout",
     "output_type": "stream",
     "text": [
      "\n",
      "\n",
      "Q: What did the fish say when it hit the wall?\n"
     ]
    }
   ],
   "source": [
    "print(llm(\"tell me a short joke\",max_tokens=15))"
   ]
  },
  {
   "cell_type": "markdown",
   "id": "c35b2a2e",
   "metadata": {},
   "source": [
    "# Prompt Template"
   ]
  },
  {
   "cell_type": "code",
   "execution_count": 13,
   "id": "82ddff43",
   "metadata": {},
   "outputs": [],
   "source": [
    "from langchain import PromptTemplate"
   ]
  },
  {
   "cell_type": "code",
   "execution_count": 14,
   "id": "2e1f8bfc",
   "metadata": {},
   "outputs": [],
   "source": [
    "no_input_prompts = PromptTemplate(input_variables=[],template='Tell me a fact',max_tokens=15)"
   ]
  },
  {
   "cell_type": "code",
   "execution_count": 15,
   "id": "8737c5a6",
   "metadata": {},
   "outputs": [
    {
     "data": {
      "text/plain": [
       "'Tell me a fact'"
      ]
     },
     "execution_count": 15,
     "metadata": {},
     "output_type": "execute_result"
    }
   ],
   "source": [
    "no_input_prompts.format()"
   ]
  },
  {
   "cell_type": "code",
   "execution_count": 17,
   "id": "c13b80ea",
   "metadata": {},
   "outputs": [
    {
     "data": {
      "text/plain": [
       "' about the moon\\n\\nThe Moon is the fifth largest natural satellite in the Solar System and the largest among planetary satellites relative to the size of the planet it orbits.'"
      ]
     },
     "execution_count": 17,
     "metadata": {},
     "output_type": "execute_result"
    }
   ],
   "source": [
    "llm(no_input_prompts.format())"
   ]
  },
  {
   "cell_type": "code",
   "execution_count": 18,
   "id": "041c0f44",
   "metadata": {},
   "outputs": [],
   "source": [
    "# Single input prompt"
   ]
  },
  {
   "cell_type": "code",
   "execution_count": 19,
   "id": "f401471c",
   "metadata": {},
   "outputs": [],
   "source": [
    "single_input_prompts = PromptTemplate(input_variables=[\"topic\"],template='Tell me a small joke about {topic}')"
   ]
  },
  {
   "cell_type": "code",
   "execution_count": 23,
   "id": "bde31960",
   "metadata": {},
   "outputs": [
    {
     "name": "stdout",
     "output_type": "stream",
     "text": [
      "\n",
      "\n",
      "Q: What did the human say to the robot?\n",
      "A: You beep me, I'll beep you.\n"
     ]
    }
   ],
   "source": [
    "print(llm(single_input_prompts.format(topic='humans')))"
   ]
  },
  {
   "cell_type": "code",
   "execution_count": 24,
   "id": "da767f78",
   "metadata": {},
   "outputs": [],
   "source": [
    "# Multi input prompts"
   ]
  },
  {
   "cell_type": "code",
   "execution_count": 25,
   "id": "1dbfb47a",
   "metadata": {},
   "outputs": [],
   "source": [
    "multi_input_prompts = PromptTemplate(input_variables=[\"topic\",\"category\"],template='Tell me a small joke about {topic} in category {category}')"
   ]
  },
  {
   "cell_type": "code",
   "execution_count": 26,
   "id": "f51c2eaf",
   "metadata": {},
   "outputs": [
    {
     "name": "stdout",
     "output_type": "stream",
     "text": [
      "\n",
      "\n",
      "Q: How do baseball players stay cool?\n",
      "A: They sit next to their fans.\n"
     ]
    }
   ],
   "source": [
    "print(llm(multi_input_prompts.format(topic='sports',category='classic')))"
   ]
  },
  {
   "cell_type": "markdown",
   "id": "19e43ac6",
   "metadata": {},
   "source": [
    "# Chat model templates"
   ]
  },
  {
   "cell_type": "code",
   "execution_count": 28,
   "id": "372e62eb",
   "metadata": {},
   "outputs": [],
   "source": [
    "from langchain.prompts import ChatPromptTemplate,PromptTemplate, AIMessagePromptTemplate, HumanMessagePromptTemplate, SystemMessagePromptTemplate\n",
    "from langchain.schema import AIMessage, SystemMessage, HumanMessage"
   ]
  },
  {
   "cell_type": "code",
   "execution_count": 29,
   "id": "b6845321",
   "metadata": {},
   "outputs": [],
   "source": [
    "system_template = \"You are a {personality} that has knowledge about {category}\"\n",
    "system_message_promt = SystemMessagePromptTemplate.from_template(system_template)"
   ]
  },
  {
   "cell_type": "code",
   "execution_count": 30,
   "id": "df256e75",
   "metadata": {},
   "outputs": [],
   "source": [
    "human_template= \"{request}\"\n",
    "human_message_prompt = HumanMessagePromptTemplate.from_template(human_template)"
   ]
  },
  {
   "cell_type": "code",
   "execution_count": 31,
   "id": "7ea19885",
   "metadata": {},
   "outputs": [
    {
     "data": {
      "text/plain": [
       "['category', 'personality']"
      ]
     },
     "execution_count": 31,
     "metadata": {},
     "output_type": "execute_result"
    }
   ],
   "source": [
    "system_message_promt.input_variables"
   ]
  },
  {
   "cell_type": "code",
   "execution_count": 32,
   "id": "43e34e73",
   "metadata": {},
   "outputs": [
    {
     "data": {
      "text/plain": [
       "['request']"
      ]
     },
     "execution_count": 32,
     "metadata": {},
     "output_type": "execute_result"
    }
   ],
   "source": [
    "human_message_prompt.input_variables"
   ]
  },
  {
   "cell_type": "code",
   "execution_count": 33,
   "id": "25b55b12",
   "metadata": {},
   "outputs": [],
   "source": [
    "chat_prompt = ChatPromptTemplate.from_messages([system_message_promt,human_message_prompt])"
   ]
  },
  {
   "cell_type": "code",
   "execution_count": 34,
   "id": "ba12a44b",
   "metadata": {},
   "outputs": [
    {
     "data": {
      "text/plain": [
       "['category', 'personality', 'request']"
      ]
     },
     "execution_count": 34,
     "metadata": {},
     "output_type": "execute_result"
    }
   ],
   "source": [
    "chat_prompt.input_variables"
   ]
  },
  {
   "cell_type": "code",
   "execution_count": 41,
   "id": "efafa97c",
   "metadata": {},
   "outputs": [],
   "source": [
    "prompt = chat_prompt.format_prompt(personality=\"pilot\",category=\"jet\",request=\"Tell me which is the safest jet to start learning\").to_messages()"
   ]
  },
  {
   "cell_type": "code",
   "execution_count": 42,
   "id": "aa56604f",
   "metadata": {},
   "outputs": [],
   "source": [
    "result = chat(prompt)"
   ]
  },
  {
   "cell_type": "code",
   "execution_count": 43,
   "id": "801ed751",
   "metadata": {},
   "outputs": [
    {
     "data": {
      "text/plain": [
       "AIMessage(content=\"When it comes to learning to fly a jet, one of the safest options is the Cessna Citation series. These jets are known for their reliability, ease of handling, and excellent safety records. The Cessna Citation series offers a range of models, including the Citation Mustang, Citation CJ series, and Citation XLS, which are popular choices for pilot training.\\n\\nThe Citation Mustang is often recommended for beginners due to its simplicity and advanced avionics systems. It has a maximum seating capacity of four and a top speed of around 340 knots. The Citation CJ series, including models such as CJ2, CJ3, and CJ4, provide more seating capacity and slightly higher performance, making them suitable for pilots with more experience.\\n\\nThe Citation XLS is a mid-size jet that combines performance, comfort, and safety. It can carry up to nine passengers and has a longer range, allowing for more versatile flights. Its advanced avionics and systems make it a great choice for pilots looking to step up to a larger jet after gaining some experience.\\n\\nIt's important to note that while these jets are considered safe and user-friendly, proper training and experience are crucial for any pilot. It is highly recommended to undergo thorough flight training, including simulator sessions and real-world experience, before flying any jet aircraft.\")"
      ]
     },
     "execution_count": 43,
     "metadata": {},
     "output_type": "execute_result"
    }
   ],
   "source": [
    "result"
   ]
  },
  {
   "cell_type": "markdown",
   "id": "2770a518",
   "metadata": {},
   "source": [
    "# Example"
   ]
  },
  {
   "cell_type": "code",
   "execution_count": 44,
   "id": "afde0bcc",
   "metadata": {},
   "outputs": [],
   "source": [
    "from langchain.prompts import ChatPromptTemplate, HumanMessagePromptTemplate , SystemMessagePromptTemplate , PromptTemplate , AIMessagePromptTemplate\n",
    "from langchain.schema import AIMessage, SystemMessage , HumanMessage"
   ]
  },
  {
   "cell_type": "code",
   "execution_count": 45,
   "id": "d018db8f",
   "metadata": {},
   "outputs": [],
   "source": [
    "system_message = \"You are a {personality} that has knowledge about {area}\"\n",
    "system_message_prompt_1 = SystemMessagePromptTemplate.from_template(system_message)\n",
    "\n",
    "human_message= \"{request}\"\n",
    "human_message_prompt_1 = HumanMessagePromptTemplate.from_template(human_message)"
   ]
  },
  {
   "cell_type": "code",
   "execution_count": 46,
   "id": "3d7da604",
   "metadata": {},
   "outputs": [],
   "source": [
    "travel_prompt = ChatPromptTemplate.from_messages([system_message_prompt_1,human_message_prompt_1])"
   ]
  },
  {
   "cell_type": "code",
   "execution_count": 48,
   "id": "6da7f8e0",
   "metadata": {},
   "outputs": [
    {
     "data": {
      "text/plain": [
       "['area', 'personality', 'request']"
      ]
     },
     "execution_count": 48,
     "metadata": {},
     "output_type": "execute_result"
    }
   ],
   "source": [
    "travel_prompt.input_variables"
   ]
  },
  {
   "cell_type": "code",
   "execution_count": 51,
   "id": "4123ee92",
   "metadata": {},
   "outputs": [],
   "source": [
    "travel = travel_prompt.format_prompt(personality=\"travel agent\",area=\"World Tour and Travel\", request=\"Which is the cheapest destination for 2 days stay within a budget of 2 thousand USD\").to_messages()\n",
    "travel_response = chat(travel)"
   ]
  },
  {
   "cell_type": "code",
   "execution_count": 54,
   "id": "d7d0ef53",
   "metadata": {},
   "outputs": [
    {
     "name": "stdout",
     "output_type": "stream",
     "text": [
      "There are several affordable destinations for a 2-day stay within a budget of 2 thousand USD. Here are a few options:\n",
      "\n",
      "1. Bangkok, Thailand: Known for its vibrant street markets, temples, and delicious street food, Bangkok offers a great mix of culture and affordability. You can explore popular attractions like the Grand Palace and Wat Arun, enjoy shopping at Chatuchak Market, and indulge in delicious local cuisine.\n",
      "\n",
      "2. Budapest, Hungary: With its stunning architecture, thermal baths, and rich history, Budapest is a great budget-friendly destination in Europe. You can visit famous landmarks like the Buda Castle, Chain Bridge, and the Hungarian Parliament Building. Don't forget to relax in one of the city's beautiful thermal baths.\n",
      "\n",
      "3. Hanoi, Vietnam: Hanoi is a charming city known for its ancient temples, bustling markets, and delicious street food. You can explore attractions like the Ho Chi Minh Mausoleum, Temple of Literature, take a stroll around Hoan Kiem Lake, and try local delicacies like pho and banh mi.\n",
      "\n",
      "4. Krakow, Poland: Krakow is a picturesque city with a rich history and affordable prices. Visit the historic Old Town, which is a UNESCO World Heritage site, explore Wawel Castle, and take a trip to the Auschwitz-Birkenau Memorial and Museum.\n",
      "\n",
      "5. Marrakech, Morocco: Marrakech offers a unique blend of vibrant markets, stunning architecture, and Moroccan culture. Explore the labyrinthine streets of the Medina, visit the beautiful Bahia Palace, and experience the vibrant atmosphere of the famous Jemaa el-Fnaa square.\n",
      "\n",
      "Remember that prices may vary depending on the time of year and your personal preferences. It's always a good idea to check for flight and accommodation deals to get the best value for your budget.\n"
     ]
    }
   ],
   "source": [
    "print(travel_response.content)"
   ]
  },
  {
   "cell_type": "code",
   "execution_count": null,
   "id": "4b29719b",
   "metadata": {},
   "outputs": [],
   "source": []
  }
 ],
 "metadata": {
  "kernelspec": {
   "display_name": "Python 3 (ipykernel)",
   "language": "python",
   "name": "python3"
  },
  "language_info": {
   "codemirror_mode": {
    "name": "ipython",
    "version": 3
   },
   "file_extension": ".py",
   "mimetype": "text/x-python",
   "name": "python",
   "nbconvert_exporter": "python",
   "pygments_lexer": "ipython3",
   "version": "3.10.3"
  }
 },
 "nbformat": 4,
 "nbformat_minor": 5
}
