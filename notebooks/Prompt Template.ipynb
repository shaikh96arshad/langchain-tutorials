{
 "cells": [
  {
   "cell_type": "code",
   "execution_count": 1,
   "id": "ae2e559b",
   "metadata": {},
   "outputs": [],
   "source": [
    "import os\n",
    "from langchain.llms import OpenAI\n",
    "from langchain.chat_models import ChatOpenAI"
   ]
  },
  {
   "cell_type": "code",
   "execution_count": 8,
   "id": "6bd3e503",
   "metadata": {},
   "outputs": [],
   "source": [
    "api_key = os.getenv('OPENAI_API_KEY')\n"
   ]
  },
  {
   "cell_type": "code",
   "execution_count": 39,
   "id": "a3527427",
   "metadata": {},
   "outputs": [],
   "source": [
    "llm = OpenAI(openai_api_key=api_key)\n",
    "chat = ChatOpenAI(openai_api_key=api_key)"
   ]
  },
  {
   "cell_type": "code",
   "execution_count": 12,
   "id": "288f0539",
   "metadata": {},
   "outputs": [
    {
     "name": "stdout",
     "output_type": "stream",
     "text": [
      "\n",
      "\n",
      "Q: What did the fish say when it hit the wall?\n"
     ]
    }
   ],
   "source": [
    "print(llm(\"tell me a short joke\",max_tokens=15))"
   ]
  },
  {
   "cell_type": "markdown",
   "id": "cf889be2",
   "metadata": {},
   "source": [
    "# Prompt Template"
   ]
  },
  {
   "cell_type": "code",
   "execution_count": 13,
   "id": "6061a5b8",
   "metadata": {},
   "outputs": [],
   "source": [
    "from langchain import PromptTemplate"
   ]
  },
  {
   "cell_type": "code",
   "execution_count": 14,
   "id": "5155a589",
   "metadata": {},
   "outputs": [],
   "source": [
    "no_input_prompts = PromptTemplate(input_variables=[],template='Tell me a fact',max_tokens=15)"
   ]
  },
  {
   "cell_type": "code",
   "execution_count": 15,
   "id": "de37833f",
   "metadata": {},
   "outputs": [
    {
     "data": {
      "text/plain": [
       "'Tell me a fact'"
      ]
     },
     "execution_count": 15,
     "metadata": {},
     "output_type": "execute_result"
    }
   ],
   "source": [
    "no_input_prompts.format()"
   ]
  },
  {
   "cell_type": "code",
   "execution_count": 17,
   "id": "d2a0a65f",
   "metadata": {},
   "outputs": [
    {
     "data": {
      "text/plain": [
       "' about the moon\\n\\nThe Moon is the fifth largest natural satellite in the Solar System and the largest among planetary satellites relative to the size of the planet it orbits.'"
      ]
     },
     "execution_count": 17,
     "metadata": {},
     "output_type": "execute_result"
    }
   ],
   "source": [
    "llm(no_input_prompts.format())"
   ]
  },
  {
   "cell_type": "code",
   "execution_count": 18,
   "id": "9e7ced67",
   "metadata": {},
   "outputs": [],
   "source": [
    "# Single input prompt"
   ]
  },
  {
   "cell_type": "code",
   "execution_count": 19,
   "id": "c7f79bd6",
   "metadata": {},
   "outputs": [],
   "source": [
    "single_input_prompts = PromptTemplate(input_variables=[\"topic\"],template='Tell me a small joke about {topic}')"
   ]
  },
  {
   "cell_type": "code",
   "execution_count": 23,
   "id": "7d114503",
   "metadata": {},
   "outputs": [
    {
     "name": "stdout",
     "output_type": "stream",
     "text": [
      "\n",
      "\n",
      "Q: What did the human say to the robot?\n",
      "A: You beep me, I'll beep you.\n"
     ]
    }
   ],
   "source": [
    "print(llm(single_input_prompts.format(topic='humans')))"
   ]
  },
  {
   "cell_type": "code",
   "execution_count": 24,
   "id": "2c021f48",
   "metadata": {},
   "outputs": [],
   "source": [
    "# Multi input prompts"
   ]
  },
  {
   "cell_type": "code",
   "execution_count": 25,
   "id": "92cac5e6",
   "metadata": {},
   "outputs": [],
   "source": [
    "multi_input_prompts = PromptTemplate(input_variables=[\"topic\",\"category\"],template='Tell me a small joke about {topic} in category {category}')"
   ]
  },
  {
   "cell_type": "code",
   "execution_count": 26,
   "id": "d0225411",
   "metadata": {},
   "outputs": [
    {
     "name": "stdout",
     "output_type": "stream",
     "text": [
      "\n",
      "\n",
      "Q: How do baseball players stay cool?\n",
      "A: They sit next to their fans.\n"
     ]
    }
   ],
   "source": [
    "print(llm(multi_input_prompts.format(topic='sports',category='classic')))"
   ]
  },
  {
   "cell_type": "markdown",
   "id": "2d414289",
   "metadata": {},
   "source": [
    "# Chat model templates"
   ]
  },
  {
   "cell_type": "code",
   "execution_count": 28,
   "id": "8f175684",
   "metadata": {},
   "outputs": [],
   "source": [
    "from langchain.prompts import ChatPromptTemplate,PromptTemplate, AIMessagePromptTemplate, HumanMessagePromptTemplate, SystemMessagePromptTemplate\n",
    "from langchain.schema import AIMessage, SystemMessage, HumanMessage"
   ]
  },
  {
   "cell_type": "code",
   "execution_count": 29,
   "id": "19bdbbec",
   "metadata": {},
   "outputs": [],
   "source": [
    "system_template = \"You are a {personality} that has knowledge about {category}\"\n",
    "system_message_promt = SystemMessagePromptTemplate.from_template(system_template)"
   ]
  },
  {
   "cell_type": "code",
   "execution_count": 30,
   "id": "28094a3e",
   "metadata": {},
   "outputs": [],
   "source": [
    "human_template= \"{request}\"\n",
    "human_message_prompt = HumanMessagePromptTemplate.from_template(human_template)"
   ]
  },
  {
   "cell_type": "code",
   "execution_count": 31,
   "id": "ac3fc9fe",
   "metadata": {},
   "outputs": [
    {
     "data": {
      "text/plain": [
       "['category', 'personality']"
      ]
     },
     "execution_count": 31,
     "metadata": {},
     "output_type": "execute_result"
    }
   ],
   "source": [
    "system_message_promt.input_variables"
   ]
  },
  {
   "cell_type": "code",
   "execution_count": 32,
   "id": "6cde97df",
   "metadata": {},
   "outputs": [
    {
     "data": {
      "text/plain": [
       "['request']"
      ]
     },
     "execution_count": 32,
     "metadata": {},
     "output_type": "execute_result"
    }
   ],
   "source": [
    "human_message_prompt.input_variables"
   ]
  },
  {
   "cell_type": "code",
   "execution_count": 33,
   "id": "ac77254f",
   "metadata": {},
   "outputs": [],
   "source": [
    "chat_prompt = ChatPromptTemplate.from_messages([system_message_promt,human_message_prompt])"
   ]
  },
  {
   "cell_type": "code",
   "execution_count": 34,
   "id": "9a17d2ff",
   "metadata": {},
   "outputs": [
    {
     "data": {
      "text/plain": [
       "['category', 'personality', 'request']"
      ]
     },
     "execution_count": 34,
     "metadata": {},
     "output_type": "execute_result"
    }
   ],
   "source": [
    "chat_prompt.input_variables"
   ]
  },
  {
   "cell_type": "code",
   "execution_count": 41,
   "id": "8e5e4a3d",
   "metadata": {},
   "outputs": [],
   "source": [
    "prompt = chat_prompt.format_prompt(personality=\"pilot\",category=\"jet\",request=\"Tell me which is the safest jet to start learning\").to_messages()"
   ]
  },
  {
   "cell_type": "code",
   "execution_count": 42,
   "id": "f526d387",
   "metadata": {},
   "outputs": [],
   "source": [
    "result = chat(prompt)"
   ]
  },
  {
   "cell_type": "code",
   "execution_count": 43,
   "id": "3f6263fa",
   "metadata": {},
   "outputs": [
    {
     "data": {
      "text/plain": [
       "AIMessage(content=\"When it comes to learning to fly a jet, one of the safest options is the Cessna Citation series. These jets are known for their reliability, ease of handling, and excellent safety records. The Cessna Citation series offers a range of models, including the Citation Mustang, Citation CJ series, and Citation XLS, which are popular choices for pilot training.\\n\\nThe Citation Mustang is often recommended for beginners due to its simplicity and advanced avionics systems. It has a maximum seating capacity of four and a top speed of around 340 knots. The Citation CJ series, including models such as CJ2, CJ3, and CJ4, provide more seating capacity and slightly higher performance, making them suitable for pilots with more experience.\\n\\nThe Citation XLS is a mid-size jet that combines performance, comfort, and safety. It can carry up to nine passengers and has a longer range, allowing for more versatile flights. Its advanced avionics and systems make it a great choice for pilots looking to step up to a larger jet after gaining some experience.\\n\\nIt's important to note that while these jets are considered safe and user-friendly, proper training and experience are crucial for any pilot. It is highly recommended to undergo thorough flight training, including simulator sessions and real-world experience, before flying any jet aircraft.\")"
      ]
     },
     "execution_count": 43,
     "metadata": {},
     "output_type": "execute_result"
    }
   ],
   "source": [
    "result"
   ]
  },
  {
   "cell_type": "code",
   "execution_count": null,
   "id": "1d6ba0bb",
   "metadata": {},
   "outputs": [],
   "source": []
  }
 ],
 "metadata": {
  "kernelspec": {
   "display_name": "Python 3 (ipykernel)",
   "language": "python",
   "name": "python3"
  },
  "language_info": {
   "codemirror_mode": {
    "name": "ipython",
    "version": 3
   },
   "file_extension": ".py",
   "mimetype": "text/x-python",
   "name": "python",
   "nbconvert_exporter": "python",
   "pygments_lexer": "ipython3",
   "version": "3.10.3"
  }
 },
 "nbformat": 4,
 "nbformat_minor": 5
}
