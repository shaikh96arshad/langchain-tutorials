{
 "cells": [
  {
   "cell_type": "code",
   "execution_count": 4,
   "id": "e3b3f039",
   "metadata": {
    "scrolled": true
   },
   "outputs": [],
   "source": [
    "# !pip install langchain"
   ]
  },
  {
   "cell_type": "code",
   "execution_count": 7,
   "id": "84f9c359",
   "metadata": {},
   "outputs": [],
   "source": [
    "import os\n",
    "from langchain.llms import OpenAI"
   ]
  },
  {
   "cell_type": "code",
   "execution_count": 10,
   "id": "6d1ebee5",
   "metadata": {},
   "outputs": [],
   "source": [
    "# os.environ[\"OPENAI_API_KEY\"] = \"sk-oai_key\""
   ]
  },
  {
   "cell_type": "code",
   "execution_count": 13,
   "id": "79bc066d",
   "metadata": {},
   "outputs": [],
   "source": [
    "openai_key = os.getenv('OPENAI_API_KEY')"
   ]
  },
  {
   "cell_type": "code",
   "execution_count": 14,
   "id": "c35a4d30",
   "metadata": {},
   "outputs": [
    {
     "name": "stdout",
     "output_type": "stream",
     "text": [
      "\n",
      "\n",
      "Q: What did the fish say when it hit the wall?\n",
      "A: Dam!\n"
     ]
    }
   ],
   "source": [
    "llm = OpenAI(openai_api_key=openai_key,to)\n",
    "print(llm('tell me a short joke',))"
   ]
  },
  {
   "cell_type": "code",
   "execution_count": 15,
   "id": "aaec3023",
   "metadata": {},
   "outputs": [],
   "source": [
    "result = llm.generate([\"What is 2+2\",\"What is 8 factorial\"])\n"
   ]
  },
  {
   "cell_type": "code",
   "execution_count": 23,
   "id": "fba2cffa",
   "metadata": {},
   "outputs": [
    {
     "data": {
      "text/plain": [
       "{'title': 'LLMResult',\n",
       " 'description': 'Class that contains all results for a batched LLM call.',\n",
       " 'type': 'object',\n",
       " 'properties': {'generations': {'title': 'Generations',\n",
       "   'type': 'array',\n",
       "   'items': {'type': 'array', 'items': {'$ref': '#/definitions/Generation'}}},\n",
       "  'llm_output': {'title': 'Llm Output', 'type': 'object'},\n",
       "  'run': {'title': 'Run',\n",
       "   'type': 'array',\n",
       "   'items': {'$ref': '#/definitions/RunInfo'}}},\n",
       " 'required': ['generations'],\n",
       " 'definitions': {'Generation': {'title': 'Generation',\n",
       "   'description': 'A single text generation output.',\n",
       "   'type': 'object',\n",
       "   'properties': {'text': {'title': 'Text', 'type': 'string'},\n",
       "    'generation_info': {'title': 'Generation Info', 'type': 'object'}},\n",
       "   'required': ['text']},\n",
       "  'RunInfo': {'title': 'RunInfo',\n",
       "   'description': 'Class that contains metadata for a single execution of a Chain or model.',\n",
       "   'type': 'object',\n",
       "   'properties': {'run_id': {'title': 'Run Id',\n",
       "     'type': 'string',\n",
       "     'format': 'uuid'}},\n",
       "   'required': ['run_id']}}}"
      ]
     },
     "execution_count": 23,
     "metadata": {},
     "output_type": "execute_result"
    }
   ],
   "source": [
    "result.schema()"
   ]
  },
  {
   "cell_type": "code",
   "execution_count": 24,
   "id": "0ca12fed",
   "metadata": {},
   "outputs": [
    {
     "data": {
      "text/plain": [
       "{'token_usage': {'prompt_tokens': 10,\n",
       "  'completion_tokens': 19,\n",
       "  'total_tokens': 29},\n",
       " 'model_name': 'text-davinci-003'}"
      ]
     },
     "execution_count": 24,
     "metadata": {},
     "output_type": "execute_result"
    }
   ],
   "source": [
    "result.llm_output"
   ]
  },
  {
   "cell_type": "code",
   "execution_count": 28,
   "id": "cf6879c6",
   "metadata": {},
   "outputs": [
    {
     "name": "stdout",
     "output_type": "stream",
     "text": [
      "?\n",
      "\n",
      "2+2 = 4\n",
      "?\n",
      "\n",
      "8 factorial is 40,320.\n"
     ]
    }
   ],
   "source": [
    "for generation in result.generations:\n",
    "    print(generation[0].text)"
   ]
  },
  {
   "cell_type": "markdown",
   "id": "b3a1bc94",
   "metadata": {},
   "source": [
    "# Chat Model"
   ]
  },
  {
   "cell_type": "code",
   "execution_count": 33,
   "id": "4a0a58f4",
   "metadata": {},
   "outputs": [],
   "source": [
    "from langchain.chat_models import ChatOpenAI\n",
    "from langchain.schema import AIMessage, SystemMessage, HumanMessage\n",
    "chat = ChatOpenAI(openai_api_key = openai_key)"
   ]
  },
  {
   "cell_type": "code",
   "execution_count": 34,
   "id": "363af907",
   "metadata": {},
   "outputs": [],
   "source": [
    "result = chat([SystemMessage(content='You are a 100 year old Worldwar 2 veteran'),HumanMessage(content='What is history of world about')])"
   ]
  },
  {
   "cell_type": "code",
   "execution_count": 36,
   "id": "ce5e1c42",
   "metadata": {},
   "outputs": [
    {
     "data": {
      "text/plain": [
       "'The history of the world is a vast and complex subject, encompassing the development of human civilization from ancient times to the present day. It is impossible to cover all aspects of world history in a brief response, but I can provide you with a general overview.\\n\\nThe earliest known human civilizations emerged in Mesopotamia (modern-day Iraq) and Egypt around 3000 BCE. These civilizations developed writing systems, agriculture, and complex social structures. Over time, other great civilizations arose, such as the ancient Greeks, Romans, and Persians, each leaving a significant mark on history through their contributions in areas such as philosophy, art, and governance.\\n\\nIn the Middle Ages, Europe experienced the rise and fall of various empires, including the Byzantine Empire and the Holy Roman Empire. The spread of Christianity and the subsequent Crusades had a profound impact on the continent.\\n\\nThe Renaissance period in Europe saw a renewed interest in art, science, and exploration. It was during this time that figures like Leonardo da Vinci and Michelangelo emerged, contributing to the fields of art and science. Meanwhile, European nations began exploring the world, leading to the Age of Discovery and the colonization of various parts of the globe.\\n\\nThe 18th and 19th centuries marked the era of industrialization, with the rise of the Industrial Revolution in Britain. This period witnessed significant advancements in technology, transportation, and manufacturing, transforming societies and economies.\\n\\nThe 20th century was marked by two devastating world wars. World War I, which occurred from 1914 to 1918, was a global conflict that involved numerous nations and resulted in millions of casualties. It led to significant political and territorial changes, including the dissolution of empires.\\n\\nWorld War II, which occurred from 1939 to 1945, was even more destructive, involving more countries and causing even greater loss of life. It was primarily fought between the Allied Powers (including the United States, United Kingdom, and Soviet Union) and the Axis Powers (including Germany, Italy, and Japan). The war resulted in the Holocaust, the use of nuclear weapons, and the establishment of the United Nations.\\n\\nFollowing World War II, the world witnessed the Cold War, a period of political tension between the United States and the Soviet Union. This conflict shaped global politics and led to proxy wars and the arms race.\\n\\nIn more recent times, we have witnessed significant advancements in technology, globalization, and the emergence of new economic powers. The world has also faced challenges such as terrorism, climate change, and the quest for global peace and stability.\\n\\nThis is just a brief overview of world history, and there are numerous other events and periods that have shaped our world. It is a rich tapestry of human achievements, struggles, and progress.'"
      ]
     },
     "execution_count": 36,
     "metadata": {},
     "output_type": "execute_result"
    }
   ],
   "source": [
    "result.content"
   ]
  },
  {
   "cell_type": "code",
   "execution_count": 41,
   "id": "6f72d628",
   "metadata": {},
   "outputs": [
    {
     "name": "stdout",
     "output_type": "stream",
     "text": [
      "Well, history of the world is a very big topic, but I'll\n"
     ]
    }
   ],
   "source": [
    "result = chat([SystemMessage(content='You are a 5 year old boy'),HumanMessage(content='What is history of world about')],max_tokens=15,temperature=2,presence_penalty=2)\n",
    "print(result.content)"
   ]
  },
  {
   "cell_type": "code",
   "execution_count": null,
   "id": "6a58bb60",
   "metadata": {},
   "outputs": [],
   "source": []
  },
  {
   "cell_type": "markdown",
   "id": "e92f384c",
   "metadata": {},
   "source": [
    "# Cache results"
   ]
  },
  {
   "cell_type": "code",
   "execution_count": 44,
   "id": "08a13246",
   "metadata": {},
   "outputs": [],
   "source": [
    "from langchain.cache import InMemoryCache\n",
    "import time"
   ]
  },
  {
   "cell_type": "code",
   "execution_count": 45,
   "id": "3243a886",
   "metadata": {},
   "outputs": [],
   "source": [
    "langchain.llm_cache = InMemoryCache()"
   ]
  },
  {
   "cell_type": "code",
   "execution_count": 46,
   "id": "4d20f889",
   "metadata": {},
   "outputs": [
    {
     "name": "stdout",
     "output_type": "stream",
     "text": [
      "0.078125\n"
     ]
    }
   ],
   "source": [
    "start = time.process_time()\n",
    "llm.predict(\"tell me a one line story\",max_tokens = 15)\n",
    "print(time.process_time() - start )"
   ]
  },
  {
   "cell_type": "code",
   "execution_count": 49,
   "id": "1930c2a0",
   "metadata": {},
   "outputs": [
    {
     "name": "stdout",
     "output_type": "stream",
     "text": [
      "\n",
      "\n",
      "A teacher planted a seed and watched it grow into a beautiful flower\n",
      "0.0\n"
     ]
    }
   ],
   "source": [
    "start = time.process_time()\n",
    "print(llm.predict(\"tell me a one line story\",max_tokens = 15,temperature=2))\n",
    "print(time.process_time() - start )"
   ]
  },
  {
   "cell_type": "code",
   "execution_count": null,
   "id": "3c5cdbb2",
   "metadata": {},
   "outputs": [],
   "source": []
  }
 ],
 "metadata": {
  "kernelspec": {
   "display_name": "Python 3 (ipykernel)",
   "language": "python",
   "name": "python3"
  },
  "language_info": {
   "codemirror_mode": {
    "name": "ipython",
    "version": 3
   },
   "file_extension": ".py",
   "mimetype": "text/x-python",
   "name": "python",
   "nbconvert_exporter": "python",
   "pygments_lexer": "ipython3",
   "version": "3.10.3"
  }
 },
 "nbformat": 4,
 "nbformat_minor": 5
}
